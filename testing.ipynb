{
 "cells": [
  {
   "cell_type": "code",
   "execution_count": 1,
   "metadata": {},
   "outputs": [],
   "source": [
    "import dot_connect"
   ]
  },
  {
   "cell_type": "markdown",
   "metadata": {},
   "source": [
    "Query Snowflake."
   ]
  },
  {
   "cell_type": "code",
   "execution_count": 4,
   "metadata": {},
   "outputs": [
    {
     "data": {
      "text/plain": [
       "[(1,)]"
      ]
     },
     "execution_count": 4,
     "metadata": {},
     "output_type": "execute_result"
    }
   ],
   "source": [
    "con = dot_connect.snowflake.connect(database=\"\", schema=\"magic\")\n",
    "con.cursor().execute(\"SELECT 1;\").fetchall()"
   ]
  },
  {
   "cell_type": "markdown",
   "metadata": {},
   "source": [
    "Query Snowpark."
   ]
  },
  {
   "cell_type": "code",
   "execution_count": null,
   "metadata": {},
   "outputs": [],
   "source": [
    "con = dot_connect.snowpark.connect()\n",
    "con.sql(\"SELECT 1\").show()"
   ]
  },
  {
   "cell_type": "markdown",
   "metadata": {},
   "source": [
    "Query MySQL."
   ]
  },
  {
   "cell_type": "code",
   "execution_count": null,
   "metadata": {},
   "outputs": [],
   "source": [
    "con = dot_connect.mysql.connect()\n",
    "\n",
    "cursor = con.cursor()\n",
    "cursor.execute(\"SELECT 1\")\n",
    "cursor.fetchall()"
   ]
  },
  {
   "cell_type": "markdown",
   "metadata": {},
   "source": [
    "Query Postgres."
   ]
  },
  {
   "cell_type": "code",
   "execution_count": null,
   "metadata": {},
   "outputs": [],
   "source": [
    "con = dot_connect.postgres.connect()\n",
    "\n",
    "cursor = con.cursor()\n",
    "cursor.execute(\"SELECT 1\")\n",
    "cursor.fetchall()"
   ]
  },
  {
   "cell_type": "markdown",
   "metadata": {},
   "source": [
    "Testing import checks."
   ]
  },
  {
   "cell_type": "code",
   "execution_count": 1,
   "metadata": {},
   "outputs": [],
   "source": [
    "import pkg_resources"
   ]
  },
  {
   "cell_type": "code",
   "execution_count": 21,
   "metadata": {},
   "outputs": [
    {
     "name": "stdout",
     "output_type": "stream",
     "text": [
      "{'/workspaces/dot-connect': ['dot-connect']}\n",
      "{'/workspaces/dot-connect/venv/lib/python3.10/site-packages': ['certifi', 'pytz', 'setuptools', 'cryptography', 'pyzmq', 'pip', 'pyopenssl', 'packaging', 'virtualenv', 'ipython', 'jupyter-client', 'mysql-connector-python', 'pytest', 'ipykernel', 'tornado', 'pyyaml', 'psutil', 'traitlets', 'jupyter-core', 'cachetools', 'chardet', 'decorator', 'protobuf', 'tox', 'pexpect', 'typing-extensions', 'pyodbc', 'pycryptodomex', 'filelock', 'platformdirs', 'pyspark', 'idna', 'cfgv', 'pre-commit', 'charset-normalizer', 'tox-gh-actions', 'prompt-toolkit', 'snowflake-connector-python', 'requests', 'pycparser', 'pygments', 'psycopg2-binary', 'python-dateutil', 'bitarray', 'pyjwt', 'identify', 'sortedcontainers', 'asttokens', 'greenlet', 'tomli', 'cloudpickle', 'iniconfig', 'urllib3', 'six', 'cffi', 'nodeenv', 'debugpy', 'snowflake-snowpark-python', 'nest-asyncio', 'pyproject-api', 'asn1crypto', 'sqlalchemy', 'snowflake-sqlalchemy', 'oscrypto', 'pluggy', 'executing', 'exceptiongroup', 'python-dotenv', 'wheel', 'jedi', 'impyla', 'thrift', 'py4j', 'parso', 'pickleshare', 'ptyprocess', 'pure-sasl', 'stack-data', 'colorama', 'thrift-sasl', 'distlib', 'wcwidth', 'pure-eval', 'backcall', 'matplotlib-inline', 'comm']}\n"
     ]
    }
   ],
   "source": [
    "installed_packages = []\n",
    "\n",
    "for k, v in pkg_resources.working_set.entry_keys.items():\n",
    "    if isinstance(v, list) and len(v) > 0:\n",
    "        print({k: v})\n",
    "        for pkg in v:\n",
    "            installed_packages.append(pkg)"
   ]
  },
  {
   "cell_type": "code",
   "execution_count": 20,
   "metadata": {},
   "outputs": [
    {
     "data": {
      "text/plain": [
       "['dot-connect',\n",
       " 'certifi',\n",
       " 'pytz',\n",
       " 'setuptools',\n",
       " 'cryptography',\n",
       " 'pyzmq',\n",
       " 'pip',\n",
       " 'pyopenssl',\n",
       " 'packaging',\n",
       " 'virtualenv',\n",
       " 'ipython',\n",
       " 'jupyter-client',\n",
       " 'mysql-connector-python',\n",
       " 'pytest',\n",
       " 'ipykernel',\n",
       " 'tornado',\n",
       " 'pyyaml',\n",
       " 'psutil',\n",
       " 'traitlets',\n",
       " 'jupyter-core',\n",
       " 'cachetools',\n",
       " 'chardet',\n",
       " 'decorator',\n",
       " 'protobuf',\n",
       " 'tox',\n",
       " 'pexpect',\n",
       " 'typing-extensions',\n",
       " 'pyodbc',\n",
       " 'pycryptodomex',\n",
       " 'filelock',\n",
       " 'platformdirs',\n",
       " 'pyspark',\n",
       " 'idna',\n",
       " 'cfgv',\n",
       " 'pre-commit',\n",
       " 'charset-normalizer',\n",
       " 'tox-gh-actions',\n",
       " 'prompt-toolkit',\n",
       " 'snowflake-connector-python',\n",
       " 'requests',\n",
       " 'pycparser',\n",
       " 'pygments',\n",
       " 'psycopg2-binary',\n",
       " 'python-dateutil',\n",
       " 'bitarray',\n",
       " 'pyjwt',\n",
       " 'identify',\n",
       " 'sortedcontainers',\n",
       " 'asttokens',\n",
       " 'greenlet',\n",
       " 'tomli',\n",
       " 'cloudpickle',\n",
       " 'iniconfig',\n",
       " 'urllib3',\n",
       " 'six',\n",
       " 'cffi',\n",
       " 'nodeenv',\n",
       " 'debugpy',\n",
       " 'snowflake-snowpark-python',\n",
       " 'nest-asyncio',\n",
       " 'pyproject-api',\n",
       " 'asn1crypto',\n",
       " 'sqlalchemy',\n",
       " 'snowflake-sqlalchemy',\n",
       " 'oscrypto',\n",
       " 'pluggy',\n",
       " 'executing',\n",
       " 'exceptiongroup',\n",
       " 'python-dotenv',\n",
       " 'wheel',\n",
       " 'jedi',\n",
       " 'impyla',\n",
       " 'thrift',\n",
       " 'py4j',\n",
       " 'parso',\n",
       " 'pickleshare',\n",
       " 'ptyprocess',\n",
       " 'pure-sasl',\n",
       " 'stack-data',\n",
       " 'colorama',\n",
       " 'thrift-sasl',\n",
       " 'distlib',\n",
       " 'wcwidth',\n",
       " 'pure-eval',\n",
       " 'backcall',\n",
       " 'matplotlib-inline',\n",
       " 'comm']"
      ]
     },
     "execution_count": 20,
     "metadata": {},
     "output_type": "execute_result"
    }
   ],
   "source": [
    "installed_packages"
   ]
  }
 ],
 "metadata": {
  "kernelspec": {
   "display_name": "venv",
   "language": "python",
   "name": "python3"
  },
  "language_info": {
   "codemirror_mode": {
    "name": "ipython",
    "version": 3
   },
   "file_extension": ".py",
   "mimetype": "text/x-python",
   "name": "python",
   "nbconvert_exporter": "python",
   "pygments_lexer": "ipython3",
   "version": "3.10.8"
  },
  "orig_nbformat": 4
 },
 "nbformat": 4,
 "nbformat_minor": 2
}
